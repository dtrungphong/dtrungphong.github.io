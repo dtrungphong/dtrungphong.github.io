{
 "cells": [
  {
   "cell_type": "markdown",
   "metadata": {},
   "source": [
    "# Quy chuẩn code trong Python\n",
    "\n",
    "PEP8 là một quy chuẩn mã nguồn cho Python, nhằm mục đích cải thiện khả năng đọc và tính nhất quán của mã nguồn. Điều này hạn chế việc không có tính thống nhất trong việc lập trình các dự án."
   ]
  },
  {
   "cell_type": "markdown",
   "metadata": {},
   "source": [
    "## 1. Số lượng ký tự trên 1 dòng\n",
    "- Tối đa 79 ký tự\n",
    "- Đối với các khối code hạn chế về cấu độ dài giới hạn ở 72 ký tự"
   ]
  },
  {
   "cell_type": "markdown",
   "metadata": {},
   "source": [
    "**Đúng**"
   ]
  },
  {
   "cell_type": "code",
   "execution_count": null,
   "metadata": {},
   "outputs": [],
   "source": [
    "def long_function_name(var_one, var_two, var_three, var_four):\n",
    "    print(var_one)"
   ]
  },
  {
   "cell_type": "markdown",
   "metadata": {},
   "source": [
    "**Sai**"
   ]
  },
  {
   "cell_type": "code",
   "execution_count": null,
   "metadata": {},
   "outputs": [],
   "source": [
    "def long_function_name(var_one, var_two, var_three, var_four, var_five, var_six, var_seven): # 92 characters\n",
    "    print(var_one)"
   ]
  },
  {
   "cell_type": "markdown",
   "metadata": {},
   "source": [
    "## 2. Sử dụng thụt lề\n",
    "- Sử dụng 4 dấu cách cho mỗi cấp độ thụt lề\n",
    "- Không nên sử dụng dấu tab"
   ]
  },
  {
   "cell_type": "code",
   "execution_count": null,
   "metadata": {},
   "outputs": [],
   "source": [
    "def hello_world():\n",
    "    print(\"Hello World\")"
   ]
  },
  {
   "cell_type": "code",
   "execution_count": null,
   "metadata": {},
   "outputs": [],
   "source": [
    "foo = long_function_name(var_one, var_two,\n",
    "                         var_three, var_four)"
   ]
  },
  {
   "cell_type": "markdown",
   "metadata": {},
   "source": [
    "## 3. Cách đặt tên\n",
    "\n",
    "- **Biến và hàm:** Sử dụng chữ thường nối cụm từ bằng dấu `_`\n",
    "\n",
    "- Để phân biệt tránh nhầm lẫn cả hai: biến thường đặt theo danh từ trong khi đó hàm sẽ được đặt là động từ"
   ]
  },
  {
   "cell_type": "code",
   "execution_count": null,
   "metadata": {},
   "outputs": [],
   "source": [
    "my_variable = 10\n",
    "\n",
    "def my_function():\n",
    "    pass"
   ]
  },
  {
   "cell_type": "markdown",
   "metadata": {},
   "source": [
    "- **Lớp**: Sử dụng chữ cái in hoa ở mỗi từ đầu tiên"
   ]
  },
  {
   "cell_type": "code",
   "execution_count": null,
   "metadata": {},
   "outputs": [],
   "source": [
    "class MyClass:\n",
    "    pass"
   ]
  },
  {
   "cell_type": "markdown",
   "metadata": {},
   "source": [
    "- **Hằng số:** Sử dụng toàn bộ chữ in hoa nối các cụm từ bằng dấu `_`"
   ]
  },
  {
   "cell_type": "code",
   "execution_count": null,
   "metadata": {},
   "outputs": [],
   "source": [
    "MAX_LIMIT = 100"
   ]
  },
  {
   "cell_type": "markdown",
   "metadata": {},
   "source": [
    "## 4. Dòng trắng\n",
    "- Sử dụng dòng trắng để tách biệt các lớp, hàm, và các khối mã lớn.\n",
    "- Sử dụng hai dòng trắng trước định nghĩa của lớp hoặc hàm cấp cao.\n",
    "- Sử dụng một dòng trắng giữa các phương thức trong một lớp."
   ]
  },
  {
   "cell_type": "code",
   "execution_count": null,
   "metadata": {},
   "outputs": [],
   "source": [
    "class MyClass:\n",
    "    \n",
    "    def method_one(self):\n",
    "        pass\n",
    "\n",
    "    def method_two(self):\n",
    "        pass"
   ]
  },
  {
   "cell_type": "markdown",
   "metadata": {},
   "source": [
    "## 5. Thêm thư viện/package\n",
    "\n",
    "- Thêm thư viện/package được đặt ở đầu file\n",
    "- Thứ tự nhập thư viện được chia ra cụ thể thành ba cụm:\n",
    "\n",
    "    + Thư viện chuẩn\n",
    "    + Thư viện bên thứ ba\n",
    "    + Thư viện cục bộ\n"
   ]
  },
  {
   "cell_type": "code",
   "execution_count": null,
   "metadata": {},
   "outputs": [],
   "source": [
    "import os\n",
    "import sys\n",
    "\n",
    "import pandas as pd\n",
    "\n",
    "from mymodule import myfunction"
   ]
  },
  {
   "cell_type": "markdown",
   "metadata": {},
   "source": [
    "## 6. Khoảng trắng trong biểu thức và câu lệnh\n",
    "\n",
    "- Không sử dụng khoảng trắng dư thừa trong các biểu thức và câu lệnh."
   ]
  },
  {
   "cell_type": "markdown",
   "metadata": {},
   "source": [
    "**Đúng**"
   ]
  },
  {
   "cell_type": "code",
   "execution_count": null,
   "metadata": {},
   "outputs": [],
   "source": [
    "a = b + c"
   ]
  },
  {
   "cell_type": "markdown",
   "metadata": {},
   "source": [
    "**Sai**"
   ]
  },
  {
   "cell_type": "code",
   "execution_count": null,
   "metadata": {},
   "outputs": [],
   "source": [
    "a = b+c"
   ]
  },
  {
   "cell_type": "markdown",
   "metadata": {},
   "source": [
    "- Không sử dụng khoảng trắng xung quanh dấu bằng khi sử dụng cho đối số."
   ]
  },
  {
   "cell_type": "markdown",
   "metadata": {},
   "source": [
    "**Đúng**"
   ]
  },
  {
   "cell_type": "code",
   "execution_count": null,
   "metadata": {},
   "outputs": [],
   "source": [
    "def my_function(param1, param2=2):\n",
    "    pass"
   ]
  },
  {
   "cell_type": "markdown",
   "metadata": {},
   "source": [
    "**Sai**"
   ]
  },
  {
   "cell_type": "code",
   "execution_count": null,
   "metadata": {},
   "outputs": [],
   "source": [
    "def my_function(param1, param2 = 2):\n",
    "    pass"
   ]
  },
  {
   "cell_type": "markdown",
   "metadata": {},
   "source": [
    "- Mức độ ưu tiên toán tử khác nhau cần lưu ý đến khoảng trắng"
   ]
  },
  {
   "cell_type": "code",
   "execution_count": null,
   "metadata": {},
   "outputs": [],
   "source": [
    "hypot2 = x*x + y*y"
   ]
  },
  {
   "cell_type": "markdown",
   "metadata": {},
   "source": [
    "## 7. Comment"
   ]
  },
  {
   "cell_type": "markdown",
   "metadata": {},
   "source": [
    "- Sử dụng nhận xét để giải thích các phần mã phức tạp.\n",
    "- Nhận xét phải rõ ràng, ngắn gọn và phù hợp."
   ]
  },
  {
   "cell_type": "code",
   "execution_count": null,
   "metadata": {},
   "outputs": [],
   "source": [
    "# Đây là nhận xét\n",
    "x = x + 1  # Tăng giá trị của x lên 1"
   ]
  },
  {
   "cell_type": "markdown",
   "metadata": {},
   "source": [
    "## 8. Docstrings"
   ]
  },
  {
   "cell_type": "markdown",
   "metadata": {},
   "source": [
    "- Sử dụng docstrings để mô tả các lớp và hàm.\n",
    "- 3 dấu ngoặc kép (\"\"\") cho docstrings."
   ]
  },
  {
   "cell_type": "code",
   "execution_count": null,
   "metadata": {},
   "outputs": [],
   "source": [
    "def my_function():\n",
    "    \"\"\"\n",
    "    Đây là chuỗi tài liệu của hàm.\n",
    "    Hàm này không làm gì cả.\n",
    "    \"\"\"\n",
    "    pass"
   ]
  },
  {
   "cell_type": "markdown",
   "metadata": {},
   "source": [
    "## 9. Dấu ngoặc đơn \n",
    "Tránh sử dụng dấu ngoặc đơn không cần thiết."
   ]
  },
  {
   "cell_type": "markdown",
   "metadata": {},
   "source": [
    "**Hợp lý**"
   ]
  },
  {
   "cell_type": "code",
   "execution_count": null,
   "metadata": {},
   "outputs": [],
   "source": [
    "x = (1+2) * (3+4)"
   ]
  },
  {
   "cell_type": "markdown",
   "metadata": {},
   "source": [
    "**Chưa hợp lý**"
   ]
  },
  {
   "cell_type": "code",
   "execution_count": null,
   "metadata": {},
   "outputs": [],
   "source": [
    "x = (( 1 + 2 ) * ( 3 + 4 ))"
   ]
  },
  {
   "cell_type": "markdown",
   "metadata": {},
   "source": [
    "## 10. Xử lý khi dòng quá dài\n",
    "Khi một dòng quá dài, sử dụng dấu gạch dưới `\\` hoặc dấu ngoặc đơn để tiếp tục dòng."
   ]
  },
  {
   "cell_type": "code",
   "execution_count": null,
   "metadata": {},
   "outputs": [],
   "source": [
    "x = 1 + 2 + 3 + 4 + \\\n",
    "    5 + 6 + 7 + 8"
   ]
  },
  {
   "cell_type": "markdown",
   "metadata": {},
   "source": [
    "Hoặc sử dụng dấu ngoặc ()"
   ]
  },
  {
   "cell_type": "code",
   "execution_count": null,
   "metadata": {},
   "outputs": [],
   "source": [
    "x = (1 + 2 + 3 + 4\n",
    "    + 5 + 6 + 7 + 8)"
   ]
  },
  {
   "cell_type": "markdown",
   "metadata": {},
   "source": [
    "## 11. Biểu thức điều kiện"
   ]
  },
  {
   "cell_type": "markdown",
   "metadata": {},
   "source": [
    "- Khi câu lệnh điều kiện quá dài ta nên tách dòng để dễ nhìn hơn"
   ]
  },
  {
   "cell_type": "code",
   "execution_count": null,
   "metadata": {},
   "outputs": [],
   "source": [
    "if (condition1 and\n",
    "    condition2 and\n",
    "    condition3):\n",
    "    do_something()"
   ]
  },
  {
   "cell_type": "markdown",
   "metadata": {},
   "source": [
    "- Nên sử dụng toán tử `is not` thay vì `not ... is`\n",
    "- Khi so sánh với `None` ta nên dùng `is` hoặc `is not`"
   ]
  },
  {
   "cell_type": "markdown",
   "metadata": {},
   "source": [
    "## 12. Một số lưu ý khác"
   ]
  },
  {
   "cell_type": "markdown",
   "metadata": {},
   "source": [
    "- Tránh gán nhiều giá trị trong cùng một dòng với nhau "
   ]
  },
  {
   "cell_type": "code",
   "execution_count": null,
   "metadata": {},
   "outputs": [],
   "source": [
    "x = 1\n",
    "y = \"a\"\n",
    "z = [3]\n",
    "\n",
    "# Sai\n",
    "x, y, z = 1, \"a\", [3]"
   ]
  },
  {
   "cell_type": "markdown",
   "metadata": {},
   "source": [
    "## Nguồn tham khảo: \n",
    "- [PEP8](https://peps.python.org/pep-0008/)"
   ]
  }
 ],
 "metadata": {
  "kernelspec": {
   "display_name": "Python 3",
   "language": "python",
   "name": "python3"
  },
  "language_info": {
   "name": "python",
   "version": "3.11.4"
  }
 },
 "nbformat": 4,
 "nbformat_minor": 2
}
